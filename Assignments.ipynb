{
  "nbformat": 4,
  "nbformat_minor": 0,
  "metadata": {
    "colab": {
      "provenance": [],
      "authorship_tag": "ABX9TyM3gDfFfq0CtkGRd80m/BSG",
      "include_colab_link": true
    },
    "kernelspec": {
      "name": "python3",
      "display_name": "Python 3"
    },
    "language_info": {
      "name": "python"
    }
  },
  "cells": [
    {
      "cell_type": "markdown",
      "metadata": {
        "id": "view-in-github",
        "colab_type": "text"
      },
      "source": [
        "<a href=\"https://colab.research.google.com/github/Anbusasi-89/Python/blob/main/Assignments.ipynb\" target=\"_parent\"><img src=\"https://colab.research.google.com/assets/colab-badge.svg\" alt=\"Open In Colab\"/></a>"
      ]
    },
    {
      "cell_type": "code",
      "execution_count": 1,
      "metadata": {
        "colab": {
          "base_uri": "https://localhost:8080/"
        },
        "id": "63Ud4Im5luio",
        "outputId": "2b5cff29-0304-46d7-de94-7a78fa169622"
      },
      "outputs": [
        {
          "output_type": "stream",
          "name": "stdout",
          "text": [
            "Average Mark:  79.0\n",
            "No of Students who scored above 80: 4\n",
            "Difference between min and max marks: 31\n"
          ]
        }
      ],
      "source": [
        "# Students Marks Analysis\n",
        "import numpy as np\n",
        "Marks = np.array([60,72,85,90,77,69,88,91]) #Array\n",
        "Avg = np.mean(Marks)\n",
        "print(\"Average Mark: \", Avg)\n",
        "Count = 0\n",
        "for Mark in Marks:\n",
        "  if Mark > 80:\n",
        "    Count += 1\n",
        "print(\"No of Students who scored above 80:\", Count)\n",
        "min_mark = Marks.min()\n",
        "max_mark = Marks.max()\n",
        "difference = max_mark - min_mark\n",
        "print(\"Difference between min and max marks:\",difference)"
      ]
    },
    {
      "cell_type": "code",
      "source": [
        "# Sales Data Analysis\n",
        "import numpy as np\n",
        "DailySales = np.array([12.5,10.2,9.8,14.6,13.3,15.0,11.9])\n",
        "Days = ['Monday','Tuesday','Wednesday','Thursday','Friday','Saturday','Sunday']\n",
        "TotalSales = np.sum(DailySales)\n",
        "print(f\"Total Sales for the week: {TotalSales:.2f}\") #f represents formatted string\n",
        "AvgSales = np.average(DailySales)\n",
        "print(f\"Average Daily Sales: {AvgSales:.2f}\")\n",
        "#above_avg_days = [Days[i] for i in range(len(DailySales)) if DailySales[i] > AvgSales]\n",
        "print(\"Days when sales greater than Average:\")\n",
        "for i in range(len(DailySales)):\n",
        "  if DailySales[i] > AvgSales:\n",
        "    i += 1\n",
        "    print(Days[i])\n",
        "#print(\"Days when Sales greater than Average:\", above_avg_days)"
      ],
      "metadata": {
        "colab": {
          "base_uri": "https://localhost:8080/"
        },
        "id": "Q2W7vh6ul60p",
        "outputId": "f082f946-79aa-490f-a15d-da3e30b9100e"
      },
      "execution_count": 2,
      "outputs": [
        {
          "output_type": "stream",
          "name": "stdout",
          "text": [
            "Total Sales for the week: 87.30\n",
            "Average Daily Sales: 12.47\n",
            "Days when sales greater than Average:\n",
            "Tuesday\n",
            "Friday\n",
            "Saturday\n",
            "Sunday\n"
          ]
        }
      ]
    }
  ]
}