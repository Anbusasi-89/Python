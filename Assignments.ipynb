{
  "nbformat": 4,
  "nbformat_minor": 0,
  "metadata": {
    "colab": {
      "provenance": [],
      "authorship_tag": "ABX9TyM0w7jAx2lEW/w+H5uzFr8r",
      "include_colab_link": true
    },
    "kernelspec": {
      "name": "python3",
      "display_name": "Python 3"
    },
    "language_info": {
      "name": "python"
    }
  },
  "cells": [
    {
      "cell_type": "markdown",
      "metadata": {
        "id": "view-in-github",
        "colab_type": "text"
      },
      "source": [
        "<a href=\"https://colab.research.google.com/github/Anbusasi-89/Python/blob/main/Assignments.ipynb\" target=\"_parent\"><img src=\"https://colab.research.google.com/assets/colab-badge.svg\" alt=\"Open In Colab\"/></a>"
      ]
    },
    {
      "cell_type": "code",
      "execution_count": null,
      "metadata": {
        "colab": {
          "base_uri": "https://localhost:8080/"
        },
        "id": "63Ud4Im5luio",
        "outputId": "2b5cff29-0304-46d7-de94-7a78fa169622"
      },
      "outputs": [
        {
          "output_type": "stream",
          "name": "stdout",
          "text": [
            "Average Mark:  79.0\n",
            "No of Students who scored above 80: 4\n",
            "Difference between min and max marks: 31\n"
          ]
        }
      ],
      "source": [
        "# Students Marks Analysis\n",
        "import numpy as np\n",
        "Marks = np.array([60,72,85,90,77,69,88,91]) #Array\n",
        "Avg = np.mean(Marks)\n",
        "print(\"Average Mark: \", Avg)\n",
        "Count = 0\n",
        "for Mark in Marks:\n",
        "  if Mark > 80:\n",
        "    Count += 1\n",
        "print(\"No of Students who scored above 80:\", Count)\n",
        "min_mark = Marks.min()\n",
        "max_mark = Marks.max()\n",
        "difference = max_mark - min_mark\n",
        "print(\"Difference between min and max marks:\",difference)"
      ]
    },
    {
      "cell_type": "code",
      "source": [
        "# Sales Data Analysis\n",
        "import numpy as np\n",
        "DailySales = np.array([12.5,10.2,9.8,14.6,13.3,15.0,11.9])\n",
        "Days = ['Monday','Tuesday','Wednesday','Thursday','Friday','Saturday','Sunday']\n",
        "TotalSales = np.sum(DailySales)\n",
        "print(f\"Total Sales for the week: {TotalSales:.2f}\") #f represents formatted string\n",
        "AvgSales = np.average(DailySales)\n",
        "print(f\"Average Daily Sales: {AvgSales:.2f}\")\n",
        "#above_avg_days = [Days[i] for i in range(len(DailySales)) if DailySales[i] > AvgSales]\n",
        "print(\"Days when sales greater than Average:\")\n",
        "for i in range(len(DailySales)):\n",
        "  if DailySales[i] > AvgSales:\n",
        "    i += 1\n",
        "    print(Days[i])\n",
        "#print(\"Days when Sales greater than Average:\", above_avg_days)"
      ],
      "metadata": {
        "colab": {
          "base_uri": "https://localhost:8080/"
        },
        "id": "Q2W7vh6ul60p",
        "outputId": "f082f946-79aa-490f-a15d-da3e30b9100e"
      },
      "execution_count": null,
      "outputs": [
        {
          "output_type": "stream",
          "name": "stdout",
          "text": [
            "Total Sales for the week: 87.30\n",
            "Average Daily Sales: 12.47\n",
            "Days when sales greater than Average:\n",
            "Tuesday\n",
            "Friday\n",
            "Saturday\n",
            "Sunday\n"
          ]
        }
      ]
    },
    {
      "cell_type": "code",
      "source": [
        "#Temperature Conversion\n",
        "import numpy as np\n",
        "celsius = np.array([34,30,28,35,33,29])\n",
        "fahrenheit = (celsius * 9/5) + 32\n",
        "print(\"Fahrenheit:\",fahrenheit)"
      ],
      "metadata": {
        "id": "cXEO-sFgogRq",
        "colab": {
          "base_uri": "https://localhost:8080/"
        },
        "outputId": "6108e630-2804-4b88-9e99-072b06d673e4"
      },
      "execution_count": null,
      "outputs": [
        {
          "output_type": "stream",
          "name": "stdout",
          "text": [
            "Fahrenheit: [93.2 86.  82.4 95.  91.4 84.2]\n"
          ]
        }
      ]
    },
    {
      "cell_type": "code",
      "source": [
        "#Product Price Increase\n",
        "import numpy as np\n",
        "prices = np.array([120,250,89,300,150])\n",
        "#increase all prices by 10%\n",
        "increased_prices = prices * 1.10\n",
        "#Find new average price\n",
        "average_price = np.mean(increased_prices)\n",
        "#Find products that are no above 250\n",
        "above_250 = increased_prices[increased_prices>250]\n",
        "print(\"Increased Prices:\", increased_prices)\n",
        "print(\"New Average Price:\", average_price)\n",
        "print(\"Products above Rs.250:\", above_250)"
      ],
      "metadata": {
        "colab": {
          "base_uri": "https://localhost:8080/"
        },
        "id": "Ci7dauPkiemb",
        "outputId": "47014270-8c2f-466e-b1d4-1f70e9118103"
      },
      "execution_count": null,
      "outputs": [
        {
          "output_type": "stream",
          "name": "stdout",
          "text": [
            "Increased Prices: [132.  275.   97.9 330.  165. ]\n",
            "New Average Price: 199.98\n",
            "Products above Rs.250: [275. 330.]\n"
          ]
        }
      ]
    },
    {
      "cell_type": "code",
      "source": [
        "#Matrix Addition\n",
        "import numpy as np\n",
        "class1 = np.array([[70,85,90],[60,75,80]])\n",
        "class2 = np.array([[65,88,92],[58,72,79]])\n",
        "total_marks = class1 + class2\n",
        "average_per_student = np.mean(total_marks,axis=0)\n",
        "print(\"Total Marks:\\n\", total_marks)\n",
        "print(\"Average Score per Student:\", average_per_student)"
      ],
      "metadata": {
        "colab": {
          "base_uri": "https://localhost:8080/"
        },
        "id": "woeO5C2Qjgij",
        "outputId": "259e6e75-7619-4a91-94fb-78a416230d28"
      },
      "execution_count": null,
      "outputs": [
        {
          "output_type": "stream",
          "name": "stdout",
          "text": [
            "Total Marks:\n",
            " [[135 173 182]\n",
            " [118 147 159]]\n",
            "Average Score per Student: [126.5 160.  170.5]\n"
          ]
        }
      ]
    },
    {
      "cell_type": "code",
      "source": [
        "#Numpy Practice Exercise\n",
        "import numpy as np\n",
        "#1. Create a Numpy array of numbers from 1 to 11\n",
        "array1 = np.arange(1,11)\n",
        "print(\"Array from 1 to 11:\", array1)\n",
        "#2. Create a 2x3 array filled with zeros\n",
        "zeros_array = np.zeros((2,3))\n",
        "print(\"\\n2x3 array of zeroes\\n\",zeros_array)\n",
        "#3. Generate an array of 5 equally spaced values between 0 and 1\n",
        "linspaced_array = np.linspace(0,1,5)\n",
        "print(\"\\n5 equally spaced values between 0 and 1:\",linspaced_array)\n",
        "#4. Extract the even numbers from an array and multiple by 10\n",
        "a = np.array([1,2,3,4,5])\n",
        "even_numbers = a[a % 2 == 0]\n",
        "print(\"\\nEven Numbers:\", even_numbers)\n",
        "multiplied = a * 10\n",
        "print(\"\\nEach element multipled by 10:\",multiplied)\n",
        "#5.Reshape an array of shape(6,) to shape(2,3)\n",
        "reshape_arr = np.array([1,2,3,4,5,6])\n",
        "reshaped = reshape_arr.reshape(2,3)\n",
        "print(\"\\nReshaped (2,3) array:\\n\",reshaped)\n",
        "#6.compute the sum and mean of an array\n",
        "sum_value = reshape_arr.sum()\n",
        "mean_value = reshape_arr.mean()\n",
        "print(\"\\nSum:\",sum_value)\n",
        "print(\"\\nMean:\",mean_value)"
      ],
      "metadata": {
        "colab": {
          "base_uri": "https://localhost:8080/"
        },
        "id": "vK7i4h_EL79m",
        "outputId": "d3fb0fcf-eac4-4453-ed61-37dca99f1f68"
      },
      "execution_count": 6,
      "outputs": [
        {
          "output_type": "stream",
          "name": "stdout",
          "text": [
            "Array from 1 to 11: [ 1  2  3  4  5  6  7  8  9 10]\n",
            "\n",
            "2x3 array of zeroes\n",
            " [[0. 0. 0.]\n",
            " [0. 0. 0.]]\n",
            "\n",
            "5 equally spaced values between 0 and 1: [0.   0.25 0.5  0.75 1.  ]\n",
            "\n",
            "Even Numbers: [2 4]\n",
            "\n",
            "Each element multipled by 10: [10 20 30 40 50]\n",
            "\n",
            "Reshaped (2,3) array:\n",
            " [[1 2 3]\n",
            " [4 5 6]]\n",
            "\n",
            "Sum: 21\n",
            "\n",
            "Mean: 3.5\n"
          ]
        }
      ]
    }
  ]
}