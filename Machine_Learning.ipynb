{
  "nbformat": 4,
  "nbformat_minor": 0,
  "metadata": {
    "colab": {
      "provenance": [],
      "authorship_tag": "ABX9TyMHOuPuPy6r+YQ/yEJrrzgD",
      "include_colab_link": true
    },
    "kernelspec": {
      "name": "python3",
      "display_name": "Python 3"
    },
    "language_info": {
      "name": "python"
    }
  },
  "cells": [
    {
      "cell_type": "markdown",
      "metadata": {
        "id": "view-in-github",
        "colab_type": "text"
      },
      "source": [
        "<a href=\"https://colab.research.google.com/github/Anbusasi-89/Python/blob/main/Machine_Learning.ipynb\" target=\"_parent\"><img src=\"https://colab.research.google.com/assets/colab-badge.svg\" alt=\"Open In Colab\"/></a>"
      ]
    },
    {
      "cell_type": "code",
      "execution_count": null,
      "metadata": {
        "colab": {
          "base_uri": "https://localhost:8080/"
        },
        "id": "N-vOpv8z1xse",
        "outputId": "e67b566d-c059-4346-de8e-a598d2e31b8d"
      },
      "outputs": [
        {
          "output_type": "stream",
          "name": "stdout",
          "text": [
            "Requirement already satisfied: scikit-learn in /usr/local/lib/python3.11/dist-packages (1.6.1)\n",
            "Requirement already satisfied: numpy>=1.19.5 in /usr/local/lib/python3.11/dist-packages (from scikit-learn) (2.0.2)\n",
            "Requirement already satisfied: scipy>=1.6.0 in /usr/local/lib/python3.11/dist-packages (from scikit-learn) (1.16.0)\n",
            "Requirement already satisfied: joblib>=1.2.0 in /usr/local/lib/python3.11/dist-packages (from scikit-learn) (1.5.1)\n",
            "Requirement already satisfied: threadpoolctl>=3.1.0 in /usr/local/lib/python3.11/dist-packages (from scikit-learn) (3.6.0)\n"
          ]
        }
      ],
      "source": [
        "#Scikit learn - free and open source machine learning library\n",
        "#simple and efficient tools for predictive analysis\n",
        "#built on numpy scipy and matplotlibhealth-predicting disease (diabetes), finance (loan), HR (Resume shortlist)\n",
        "#ecomm - Product recommendation,\n",
        "!pip install scikit-learn"
      ]
    },
    {
      "cell_type": "code",
      "source": [
        "#raw data -> clean data -> feature/label the data -> split the data -> model -> train -> predict -> evaluate -> improve => kind of pipeline flow\n",
        "#Email spam detection - Example"
      ],
      "metadata": {
        "id": "6SDl4_Ov3oBB"
      },
      "execution_count": null,
      "outputs": []
    },
    {
      "cell_type": "code",
      "source": [
        "#collect the data\n",
        "import pandas as pd\n",
        "from sklearn.model_selection import train_test_split\n",
        "from sklearn.tree import DecisionTreeClassifier\n",
        "df = pd.read_csv('/content/sample_ml_data.csv')\n",
        "#data processing - drop null values\n",
        "df.dropna(inplace=True)\n",
        "df['Gender'] = df['Gender'].map({'Male':0,'Female':1})\n",
        "#split data 80% training 20% testing\n",
        "X = df.drop('Purchased', axis=1)\n",
        "y = df['Purchased']\n",
        "X_train, X_test, y_train, y_test = train_test_split(X,y,test_size=0.2, random_state=42)\n",
        "#model selection - first import the model\n",
        "model = DecisionTreeClassifier()\n",
        "#train\n",
        "model.fit(X_train, y_train)\n",
        "#predict\n",
        "predictions = model.predict(X_test)\n",
        "#evaluate\n",
        "from sklearn.metrics import accuracy_score\n",
        "accuracy = accuracy_score(y_test,predictions)\n",
        "print(accuracy_score)\n",
        "\n"
      ],
      "metadata": {
        "colab": {
          "base_uri": "https://localhost:8080/"
        },
        "id": "qcvarkyz5-sW",
        "outputId": "bbe0835b-f6e5-4c34-9c1e-b346fc5f795a"
      },
      "execution_count": null,
      "outputs": [
        {
          "output_type": "stream",
          "name": "stdout",
          "text": [
            "<function accuracy_score at 0x7e8b70172fc0>\n"
          ]
        }
      ]
    },
    {
      "cell_type": "code",
      "source": [
        "from sklearn.metrics import accuracy_score\n",
        "#actual labels\n",
        "y_true = [1,0,1,1,0,1]\n",
        "y_pred = [1,0,1,1,0,1]\n",
        "accuracy = accuracy_score(y_true, y_pred)\n",
        "print(\"accuracy_score\", accuracy)"
      ],
      "metadata": {
        "colab": {
          "base_uri": "https://localhost:8080/"
        },
        "id": "8fgwS0asALGK",
        "outputId": "584d6d27-f17d-42a0-827f-416693da16b5"
      },
      "execution_count": null,
      "outputs": [
        {
          "output_type": "stream",
          "name": "stdout",
          "text": [
            "accuracy_score 1.0\n"
          ]
        }
      ]
    },
    {
      "cell_type": "code",
      "source": [
        "#Train a classifier (Ex: Iris or Titanic dataset)\n",
        "from sklearn.datasets import load_iris\n",
        "from sklearn.model_selection import train_test_split\n",
        "from sklearn.tree import DecisionTreeClassifier\n",
        "from sklearn.metrics import accuracy_score\n",
        "#Load the Iris dataset\n",
        "iris = load_iris()\n",
        "X,y = load_iris(return_X_y = True)\n",
        "#Split the data into training and testing sets\n",
        "X_train, X_test, y_train, y_test = train_test_split(X,y,test_size=0.2,random_state=42)\n",
        "clf = DecisionTreeClassifier()\n",
        "clf.fit(X_train,y_train)\n",
        "y_pred = clf.predict(X_test)\n",
        "accuracy = accuracy_score(y_test,y_pred)\n",
        "print(\"accuracy\",accuracy)\n"
      ],
      "metadata": {
        "colab": {
          "base_uri": "https://localhost:8080/"
        },
        "id": "IHlPtojoIfUT",
        "outputId": "59074186-1c60-4bd1-9919-478ac0aa690e"
      },
      "execution_count": null,
      "outputs": [
        {
          "output_type": "stream",
          "name": "stdout",
          "text": [
            "accuracy 1.0\n"
          ]
        }
      ]
    },
    {
      "cell_type": "code",
      "source": [
        "#Iris Flower Classification\n",
        "#Algorithm : Logistic Regression or KNN\n",
        "#Goal : Classify flower species based on sepal and petal features\n",
        "from sklearn.datasets import load_iris #importing a iris dataset\n",
        "from sklearn.model_selection import train_test_split #splitting the data\n",
        "from sklearn.linear_model import LogisticRegression #model used for classification\n",
        "iris = load_iris() #loading iris dataset into variable iris\n",
        "#Split the dataset into training and testing\n",
        "#X_train and y_train are used to train model\n",
        "#X_test and y_test are used to test model\n",
        "X_train, X_test, y_train, y_test = train_test_split(iris.data, iris.target, test_size=0.3)\n",
        "model = LogisticRegression(max_iter=200) #creating logistic regression model. max_iter=200 sets a limit how long it should try to learn\n",
        "model.fit(X_train,y_train) #Train the model using trained data\n",
        "print(\"Accuracy:\", model.score(X_test, y_test)) #model.score(..) returns the accuracy\n",
        "#print(\"Accuracy: {:.2f}\".format(model.score(X_test, y_test)))"
      ],
      "metadata": {
        "colab": {
          "base_uri": "https://localhost:8080/"
        },
        "id": "3UjjFgjRj17s",
        "outputId": "438efca8-bc40-4aef-a6de-1890a17c8fbc"
      },
      "execution_count": null,
      "outputs": [
        {
          "output_type": "stream",
          "name": "stdout",
          "text": [
            "Accuracy: 0.9111111111111111\n"
          ]
        }
      ]
    },
    {
      "cell_type": "code",
      "source": [
        "#Salary Prediction\n",
        "#Algorithm: Linear Regression\n",
        "#Goal: Predict salary based on years of experience\n",
        "import pandas as pd\n",
        "from sklearn.model_selection import train_test_split\n",
        "from sklearn.linear_model import LinearRegression\n",
        "data = pd.read_csv(\"Salary_Data.csv\")\n",
        "X = data['YearsExperience']\n",
        "y = data['Salary']\n",
        "X_train, X_test, y_train, y_test = train_test_split(X, y, test_size=0.2)\n",
        "model = LinearRegression()\n",
        "model.fit(X_train,y_train)\n",
        "print(\"Predicted:\", model.predict(X_test))\n",
        "print(\"Score:\", model.score(X_test, y_test))"
      ],
      "metadata": {
        "collapsed": true,
        "id": "22Seh0S1oJNH"
      },
      "execution_count": null,
      "outputs": []
    },
    {
      "cell_type": "code",
      "source": [
        "#Daibetes Prediction\n",
        "#Algoritm: Decision Tree or Random Forest\n",
        "#Goal: Predict if a patient has diabetes\n",
        "from sklearn.datasets import load_diabetes\n",
        "from sklearn.model_selection import train_test_split\n",
        "from sklearn.ensemble import RandomForestRegressor\n",
        "data = load_diabetes()\n",
        "X_train, X_test, y_train, y_test = train_test_split(data.data,data.target,test_size=0.3)\n",
        "model = RandomForestRegressor()\n",
        "model.fit(X_train, y_train)\n",
        "print(\"Model Score:\",model.score(X_test, y_test))"
      ],
      "metadata": {
        "colab": {
          "base_uri": "https://localhost:8080/"
        },
        "id": "J4c8Y7uwqlcm",
        "outputId": "1734f3a4-ba89-4df9-8791-fd02f210f0cc"
      },
      "execution_count": null,
      "outputs": [
        {
          "output_type": "stream",
          "name": "stdout",
          "text": [
            "Model Score: 0.43135365178946283\n"
          ]
        }
      ]
    },
    {
      "cell_type": "code",
      "source": [
        "#Handwritten Digit Recognition\n",
        "#Algorithm: SVM (Support Vector Machine)\n",
        "#Recognize digits from images\n",
        "from sklearn import datasets\n",
        "from sklearn.model_selection import train_test_split\n",
        "from sklearn.svm import SVC\n",
        "digits = datasets.load_digits()\n",
        "X_train,X_test,y_train,y_test = train_test_split(digits.data, digits.target, test_size=0.3)\n",
        "model = SVC()\n",
        "model.fit(X_test,y_test)\n",
        "print(\"Accuracy:\",model.score(X_test,y_test))"
      ],
      "metadata": {
        "colab": {
          "base_uri": "https://localhost:8080/"
        },
        "id": "Y5RzXbHzL9cO",
        "outputId": "28248cc7-95f6-4729-b285-77c453ce0d48"
      },
      "execution_count": null,
      "outputs": [
        {
          "output_type": "stream",
          "name": "stdout",
          "text": [
            "Accuracy: 0.9851851851851852\n"
          ]
        }
      ]
    },
    {
      "cell_type": "code",
      "source": [
        "#Spam or Ham Email Detection\n",
        "#Algorithm: Naive Bayes\n",
        "#Goal: Classify text emails as spam or not\n",
        "from sklearn.feature_extraction.text import CountVectorizer\n",
        "from sklearn.naive_bayes import MultinomialNB\n",
        "from sklearn.model_selection import train_test_split\n",
        "data = [('Free Lottery Tickets', 1),('Hi,How are you?', 1), ('Win $$$ now!',1), ('Lunch at 2pm?',0), ('Clam your reward',1)]\n",
        "texts, labels = zip(*data)\n",
        "cv = CountVectorizer()\n",
        "X = cv.fit_transform(texts)\n",
        "X_train, X_test, y_train, y_test = train_test_split(X, labels, test_size=0.2)\n",
        "model = MultinomialNB()\n",
        "model.fit(X_train, y_train)\n",
        "print(\"Accuracy:\",model.score(X_test,y_test))"
      ],
      "metadata": {
        "colab": {
          "base_uri": "https://localhost:8080/"
        },
        "id": "2lVAlyavNU0V",
        "outputId": "6917b582-e493-4ee3-ce42-8a6e51529e18"
      },
      "execution_count": null,
      "outputs": [
        {
          "output_type": "stream",
          "name": "stdout",
          "text": [
            "Accuracy: 1.0\n"
          ]
        }
      ]
    },
    {
      "cell_type": "code",
      "source": [
        "#Predict Student Grades\n",
        "#Use student hours of study and attendance\n",
        "import pandas as pd\n",
        "from sklearn.model_selection import train_test_split\n",
        "from sklearn.linear_model import LinearRegression\n",
        "data = {'Hours_Studied':[1,2,3,4,5],\n",
        "        'Attendance':[50,60,65,80,90],\n",
        "        'Grade':[60,65,70,75,85]}\n",
        "df = pd.DataFrame(data)\n",
        "X = df[['Hours_Studied','Attendance']]\n",
        "y = df['Grade']\n",
        "X_train,X_test,y_train,y_test = train_test_split(X,y,test_size=0.2)\n",
        "model = LinearRegression()\n",
        "model.fit(X_train,y_train)\n",
        "print(\"Predicted Grades:\", model.predict(X_test))"
      ],
      "metadata": {
        "colab": {
          "base_uri": "https://localhost:8080/"
        },
        "id": "_xvENwhb2Qz1",
        "outputId": "5321e8ce-f4af-47a3-b24a-f02c97e79934"
      },
      "execution_count": null,
      "outputs": [
        {
          "output_type": "stream",
          "name": "stdout",
          "text": [
            "Predicted Grades: [80.]\n"
          ]
        }
      ]
    },
    {
      "cell_type": "code",
      "source": [
        "#Classify Tumors as Maligant or Bengin\n",
        "#Use sklearn's load_breast_cancer() dataset\n",
        "from sklearn.datasets import load_breast_cancer\n",
        "from sklearn.model_selection import train_test_split\n",
        "from sklearn.ensemble import RandomForestClassifier\n",
        "data = load_breast_cancer()\n",
        "X_train,X_test,y_train,y_test = train_test_split(data.data, data.target, test_size=0.2)\n",
        "model = RandomForestClassifier()\n",
        "model.fit(X_train, y_train)\n",
        "print(\"Accuracy:\",model.score(X_test,y_test))"
      ],
      "metadata": {
        "colab": {
          "base_uri": "https://localhost:8080/"
        },
        "id": "IvguIIjQ4rPz",
        "outputId": "1517046b-aed8-4c5c-af1c-27582ceab378"
      },
      "execution_count": null,
      "outputs": [
        {
          "output_type": "stream",
          "name": "stdout",
          "text": [
            "Accuracy: 0.9385964912280702\n"
          ]
        }
      ]
    },
    {
      "cell_type": "code",
      "source": [
        "#Wine Quality Prediction\n",
        "#Use UCI Wine dataset\n",
        "from sklearn.datasets import load_wine\n",
        "from sklearn.model_selection import train_test_split\n",
        "from sklearn.tree import DecisionTreeClassifier\n",
        "data = load_wine()\n",
        "X_train,X_test,y_train,y_test = train_test_split(data.data,data.target,test_size=0.3)\n",
        "model = DecisionTreeClassifier()\n",
        "model.fit(X_train,y_train)\n",
        "print(\"Accuracy:\",model.score(X_test,y_test))"
      ],
      "metadata": {
        "colab": {
          "base_uri": "https://localhost:8080/"
        },
        "id": "NUEEqQ1T-BYA",
        "outputId": "76c18915-4e77-4ed4-eef5-ce179745d100"
      },
      "execution_count": null,
      "outputs": [
        {
          "output_type": "stream",
          "name": "stdout",
          "text": [
            "Accuracy: 0.9074074074074074\n"
          ]
        }
      ]
    },
    {
      "cell_type": "code",
      "source": [
        "#House Price Prediction\n",
        "#Use fetaures like area,location,BHK\n",
        "import pandas as pd\n",
        "from sklearn.linear_model import LinearRegression\n",
        "data = {'Area':[1000,1500,2000,2500],\n",
        "        'BHK':[2,3,3,4],\n",
        "        'Price':[50,70,90,110]}\n",
        "df = pd.DataFrame(data)\n",
        "X = df[['Area','BHK']]\n",
        "y = df['Price']\n",
        "model = LinearRegression()\n",
        "model.fit(X,y)\n",
        "print(\"Predicted Price for 2300sqft 3BHK:\",model.predict([[2300,3]]))"
      ],
      "metadata": {
        "colab": {
          "base_uri": "https://localhost:8080/"
        },
        "id": "eJLLybUd-yvO",
        "outputId": "28a3693c-c788-44ef-a404-6146a65667e7"
      },
      "execution_count": null,
      "outputs": [
        {
          "output_type": "stream",
          "name": "stdout",
          "text": [
            "Predicted Price for 2300sqft,3BHK: [102.]\n"
          ]
        },
        {
          "output_type": "stream",
          "name": "stderr",
          "text": [
            "/usr/local/lib/python3.11/dist-packages/sklearn/utils/validation.py:2739: UserWarning: X does not have valid feature names, but LinearRegression was fitted with feature names\n",
            "  warnings.warn(\n"
          ]
        }
      ]
    },
    {
      "cell_type": "code",
      "source": [
        "#Titanic Survival Prediction\n",
        "#Use passenger features like age, gender, fare\n",
        "import pandas as pd\n",
        "from sklearn.model_selection import train_test_split\n",
        "from sklearn.linear_model import LogisticRegression\n",
        "data = {'Age':[22,38,26,35,28],\n",
        "        'Fare':[7.25,71.83,7.92,53.1,8.05],\n",
        "        'Sex':[0,1,1,1,0],\n",
        "        'Survived':[0,1,1,1,0]}\n",
        "df = pd.DataFrame(data)\n",
        "X = df[['Age','Fare','Sex']]\n",
        "y = df['Survived']\n",
        "X_train, X_test, y_train, y_test = train_test_split(X,y,test_size=0.2)\n",
        "model = LogisticRegression()\n",
        "model.fit(X_train,y_train)\n",
        "print(\"Prediction:\",model.predict(X_test))\n"
      ],
      "metadata": {
        "colab": {
          "base_uri": "https://localhost:8080/"
        },
        "id": "O3EfvRSEdzdU",
        "outputId": "a0140879-5600-47ef-c620-73e71abb06c8"
      },
      "execution_count": null,
      "outputs": [
        {
          "output_type": "stream",
          "name": "stdout",
          "text": [
            "Prediction: [1]\n"
          ]
        }
      ]
    }
  ]
}